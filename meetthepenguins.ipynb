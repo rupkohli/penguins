{
 "metadata": {
  "language_info": {
   "codemirror_mode": {
    "name": "ipython",
    "version": 3
   },
   "file_extension": ".py",
   "mimetype": "text/x-python",
   "name": "python",
   "nbconvert_exporter": "python",
   "pygments_lexer": "ipython3",
   "version": "3.7.0-final"
  },
  "orig_nbformat": 2,
  "kernelspec": {
   "name": "python3",
   "display_name": "Python 3.7.0 64-bit",
   "metadata": {
    "interpreter": {
     "hash": "e534e48711db4d1e1c48977d0d14ff85b1f16d41bcc4fdfd88268a329b3c9d66"
    }
   }
  }
 },
 "nbformat": 4,
 "nbformat_minor": 2,
 "cells": [
  {
   "cell_type": "code",
   "execution_count": 1,
   "metadata": {},
   "outputs": [
    {
     "output_type": "stream",
     "name": "stdout",
     "text": [
      "Files in '/Users/rupinderkohli/workspace/Python': ['streamlit', '.DS_Store', 'eda_penguins', 'rupinderk', 'node_modules', 'Rupinder_March 2020 Cohort_Term5_Grocery_Supplies_v6_Apriori.ipynb', 'rupinderk.pub', '.idea']\n"
     ]
    }
   ],
   "source": [
    "import os\n",
    "\n",
    "cwd = os.getcwd()  # Get the current working directory (cwd)\n",
    "files = os.listdir(cwd)  # Get all the files in that directory\n",
    "print(\"Files in %r: %s\" % (cwd, files))"
   ]
  },
  {
   "cell_type": "code",
   "execution_count": 8,
   "metadata": {},
   "outputs": [],
   "source": [
    "import pandas as pd\n",
    "import numpy as np\n",
    "\n",
    "import seaborn as sns\n",
    "import matplotlib.pyplot as plt\n",
    "%matplotlib inline\n",
    "\n",
    "from IPython.display import display\n",
    "\n"
   ]
  },
  {
   "cell_type": "code",
   "execution_count": 3,
   "metadata": {},
   "outputs": [],
   "source": [
    "# how to fix Python SSL errors when downloading web pages using the https protocol in Python (e.g. by using the urllib, urllib2, httplib or requests. This error looks like something like this\n",
    "# self._sslobj.do_handshake()\n",
    "#   SSLError: [SSL: CERTIFICATE_VERIFY_FAILED] certificate verify failed (_ssl.c:590)\n",
    "\n",
    "import os, ssl\n",
    "if (not os.environ.get('PYTHONHTTPSVERIFY', '') and getattr(ssl, '_create_unverified_context', None)):\n",
    "    ssl._create_default_https_context = ssl._create_unverified_context"
   ]
  },
  {
   "cell_type": "code",
   "execution_count": 4,
   "metadata": {},
   "outputs": [
    {
     "output_type": "stream",
     "name": "stdout",
     "text": [
      "<class 'pandas.core.frame.DataFrame'>\nRangeIndex: 68 entries, 0 to 67\nData columns (total 17 columns):\n #   Column               Non-Null Count  Dtype  \n---  ------               --------------  -----  \n 0   studyName            68 non-null     object \n 1   Sample Number        68 non-null     int64  \n 2   Species              68 non-null     object \n 3   Region               68 non-null     object \n 4   Island               68 non-null     object \n 5   Stage                68 non-null     object \n 6   Individual ID        68 non-null     object \n 7   Clutch Completion    68 non-null     object \n 8   Date Egg             68 non-null     object \n 9   Culmen Length (mm)   68 non-null     float64\n 10  Culmen Depth (mm)    68 non-null     float64\n 11  Flipper Length (mm)  68 non-null     int64  \n 12  Body Mass (g)        68 non-null     int64  \n 13  Sex                  68 non-null     object \n 14  Delta 15 N (o/oo)    67 non-null     float64\n 15  Delta 13 C (o/oo)    68 non-null     float64\n 16  Comments             15 non-null     object \ndtypes: float64(4), int64(3), object(10)\nmemory usage: 9.2+ KB\n"
     ]
    }
   ],
   "source": [
    "penguins_adelie_df = pd.read_csv(\"https://raw.githubusercontent.com/rupkohli/penguins/main/raw_data/penguin_chinstrap_table_221.csv\")\n",
    "penguins_adelie_df.head()\n"
   ]
  },
  {
   "cell_type": "code",
   "execution_count": 5,
   "metadata": {},
   "outputs": [
    {
     "output_type": "execute_result",
     "data": {
      "text/plain": [
       "  studyName  Sample Number                                    Species  Region  \\\n",
       "0   PAL0708              1  Chinstrap penguin (Pygoscelis antarctica)  Anvers   \n",
       "1   PAL0708              2  Chinstrap penguin (Pygoscelis antarctica)  Anvers   \n",
       "2   PAL0708              3  Chinstrap penguin (Pygoscelis antarctica)  Anvers   \n",
       "3   PAL0708              4  Chinstrap penguin (Pygoscelis antarctica)  Anvers   \n",
       "4   PAL0708              5  Chinstrap penguin (Pygoscelis antarctica)  Anvers   \n",
       "\n",
       "  Island               Stage Individual ID Clutch Completion    Date Egg  \\\n",
       "0  Dream  Adult, 1 Egg Stage         N61A1                No  2007-11-19   \n",
       "1  Dream  Adult, 1 Egg Stage         N61A2                No  2007-11-19   \n",
       "2  Dream  Adult, 1 Egg Stage         N62A1               Yes  2007-11-26   \n",
       "3  Dream  Adult, 1 Egg Stage         N62A2               Yes  2007-11-26   \n",
       "4  Dream  Adult, 1 Egg Stage         N64A1               Yes  2007-11-21   \n",
       "\n",
       "   Culmen Length (mm)  Culmen Depth (mm)  Flipper Length (mm)  Body Mass (g)  \\\n",
       "0                46.5               17.9                  192           3500   \n",
       "1                50.0               19.5                  196           3900   \n",
       "2                51.3               19.2                  193           3650   \n",
       "3                45.4               18.7                  188           3525   \n",
       "4                52.7               19.8                  197           3725   \n",
       "\n",
       "      Sex  Delta 15 N (o/oo)  Delta 13 C (o/oo)  \\\n",
       "0  FEMALE            9.03935          -24.30229   \n",
       "1    MALE            8.92069          -24.23592   \n",
       "2    MALE            9.29078          -24.75570   \n",
       "3  FEMALE            8.64701          -24.62717   \n",
       "4    MALE            9.00642          -24.61867   \n",
       "\n",
       "                                Comments  \n",
       "0  Nest never observed with full clutch.  \n",
       "1  Nest never observed with full clutch.  \n",
       "2                                    NaN  \n",
       "3                                    NaN  \n",
       "4                                    NaN  "
      ],
      "text/html": "<div>\n<style scoped>\n    .dataframe tbody tr th:only-of-type {\n        vertical-align: middle;\n    }\n\n    .dataframe tbody tr th {\n        vertical-align: top;\n    }\n\n    .dataframe thead th {\n        text-align: right;\n    }\n</style>\n<table border=\"1\" class=\"dataframe\">\n  <thead>\n    <tr style=\"text-align: right;\">\n      <th></th>\n      <th>studyName</th>\n      <th>Sample Number</th>\n      <th>Species</th>\n      <th>Region</th>\n      <th>Island</th>\n      <th>Stage</th>\n      <th>Individual ID</th>\n      <th>Clutch Completion</th>\n      <th>Date Egg</th>\n      <th>Culmen Length (mm)</th>\n      <th>Culmen Depth (mm)</th>\n      <th>Flipper Length (mm)</th>\n      <th>Body Mass (g)</th>\n      <th>Sex</th>\n      <th>Delta 15 N (o/oo)</th>\n      <th>Delta 13 C (o/oo)</th>\n      <th>Comments</th>\n    </tr>\n  </thead>\n  <tbody>\n    <tr>\n      <th>0</th>\n      <td>PAL0708</td>\n      <td>1</td>\n      <td>Chinstrap penguin (Pygoscelis antarctica)</td>\n      <td>Anvers</td>\n      <td>Dream</td>\n      <td>Adult, 1 Egg Stage</td>\n      <td>N61A1</td>\n      <td>No</td>\n      <td>2007-11-19</td>\n      <td>46.5</td>\n      <td>17.9</td>\n      <td>192</td>\n      <td>3500</td>\n      <td>FEMALE</td>\n      <td>9.03935</td>\n      <td>-24.30229</td>\n      <td>Nest never observed with full clutch.</td>\n    </tr>\n    <tr>\n      <th>1</th>\n      <td>PAL0708</td>\n      <td>2</td>\n      <td>Chinstrap penguin (Pygoscelis antarctica)</td>\n      <td>Anvers</td>\n      <td>Dream</td>\n      <td>Adult, 1 Egg Stage</td>\n      <td>N61A2</td>\n      <td>No</td>\n      <td>2007-11-19</td>\n      <td>50.0</td>\n      <td>19.5</td>\n      <td>196</td>\n      <td>3900</td>\n      <td>MALE</td>\n      <td>8.92069</td>\n      <td>-24.23592</td>\n      <td>Nest never observed with full clutch.</td>\n    </tr>\n    <tr>\n      <th>2</th>\n      <td>PAL0708</td>\n      <td>3</td>\n      <td>Chinstrap penguin (Pygoscelis antarctica)</td>\n      <td>Anvers</td>\n      <td>Dream</td>\n      <td>Adult, 1 Egg Stage</td>\n      <td>N62A1</td>\n      <td>Yes</td>\n      <td>2007-11-26</td>\n      <td>51.3</td>\n      <td>19.2</td>\n      <td>193</td>\n      <td>3650</td>\n      <td>MALE</td>\n      <td>9.29078</td>\n      <td>-24.75570</td>\n      <td>NaN</td>\n    </tr>\n    <tr>\n      <th>3</th>\n      <td>PAL0708</td>\n      <td>4</td>\n      <td>Chinstrap penguin (Pygoscelis antarctica)</td>\n      <td>Anvers</td>\n      <td>Dream</td>\n      <td>Adult, 1 Egg Stage</td>\n      <td>N62A2</td>\n      <td>Yes</td>\n      <td>2007-11-26</td>\n      <td>45.4</td>\n      <td>18.7</td>\n      <td>188</td>\n      <td>3525</td>\n      <td>FEMALE</td>\n      <td>8.64701</td>\n      <td>-24.62717</td>\n      <td>NaN</td>\n    </tr>\n    <tr>\n      <th>4</th>\n      <td>PAL0708</td>\n      <td>5</td>\n      <td>Chinstrap penguin (Pygoscelis antarctica)</td>\n      <td>Anvers</td>\n      <td>Dream</td>\n      <td>Adult, 1 Egg Stage</td>\n      <td>N64A1</td>\n      <td>Yes</td>\n      <td>2007-11-21</td>\n      <td>52.7</td>\n      <td>19.8</td>\n      <td>197</td>\n      <td>3725</td>\n      <td>MALE</td>\n      <td>9.00642</td>\n      <td>-24.61867</td>\n      <td>NaN</td>\n    </tr>\n  </tbody>\n</table>\n</div>"
     },
     "metadata": {},
     "execution_count": 5
    }
   ],
   "source": [
    "penguins_chinstrap_df = pd.read_csv(\"https://raw.githubusercontent.com/rupkohli/penguins/main/raw_data/penguin_chinstrap_table_221.csv\")\n",
    "penguins_chinstrap_df.head()"
   ]
  },
  {
   "cell_type": "code",
   "execution_count": null,
   "metadata": {},
   "outputs": [],
   "source": [
    "\n",
    "\n"
   ]
  },
  {
   "cell_type": "code",
   "execution_count": null,
   "metadata": {},
   "outputs": [],
   "source": []
  },
  {
   "cell_type": "code",
   "execution_count": 13,
   "metadata": {},
   "outputs": [
    {
     "output_type": "display_data",
     "data": {
      "text/plain": "'Penguins Data snapshot'"
     },
     "metadata": {}
    },
    {
     "output_type": "display_data",
     "data": {
      "text/plain": "'rows / columns: '"
     },
     "metadata": {}
    },
    {
     "output_type": "display_data",
     "data": {
      "text/plain": "(68, 17)"
     },
     "metadata": {}
    },
    {
     "output_type": "stream",
     "name": "stdout",
     "text": [
      "<class 'pandas.core.frame.DataFrame'>\nRangeIndex: 68 entries, 0 to 67\nData columns (total 17 columns):\n #   Column               Non-Null Count  Dtype  \n---  ------               --------------  -----  \n 0   studyName            68 non-null     object \n 1   Sample Number        68 non-null     int64  \n 2   Species              68 non-null     object \n 3   Region               68 non-null     object \n 4   Island               68 non-null     object \n 5   Stage                68 non-null     object \n 6   Individual ID        68 non-null     object \n 7   Clutch Completion    68 non-null     object \n 8   Date Egg             68 non-null     object \n 9   Culmen Length (mm)   68 non-null     float64\n 10  Culmen Depth (mm)    68 non-null     float64\n 11  Flipper Length (mm)  68 non-null     int64  \n 12  Body Mass (g)        68 non-null     int64  \n 13  Sex                  68 non-null     object \n 14  Delta 15 N (o/oo)    67 non-null     float64\n 15  Delta 13 C (o/oo)    68 non-null     float64\n 16  Comments             15 non-null     object \ndtypes: float64(4), int64(3), object(10)\nmemory usage: 9.2+ KB\n"
     ]
    },
    {
     "output_type": "display_data",
     "data": {
      "text/plain": "'information: '"
     },
     "metadata": {}
    },
    {
     "output_type": "display_data",
     "data": {
      "text/plain": "None"
     },
     "metadata": {}
    },
    {
     "output_type": "display_data",
     "data": {
      "text/plain": "'Unique Values'"
     },
     "metadata": {}
    },
    {
     "output_type": "stream",
     "name": "stdout",
     "text": [
      "Feature Name:  studyName\nFeature DataType:  object\n"
     ]
    },
    {
     "output_type": "display_data",
     "data": {
      "text/plain": "array(['PAL0708', 'PAL0809', 'PAL0910'], dtype=object)"
     },
     "metadata": {}
    },
    {
     "output_type": "stream",
     "name": "stdout",
     "text": [
      "\n\nFeature Name:  Sample Number\nFeature DataType:  int64\n"
     ]
    },
    {
     "output_type": "display_data",
     "data": {
      "text/plain": "array([ 1,  2,  3,  4,  5,  6,  7,  8,  9, 10, 11, 12, 13, 14, 15, 16, 17,\n       18, 19, 20, 21, 22, 23, 24, 25, 26, 27, 28, 29, 30, 31, 32, 33, 34,\n       35, 36, 37, 38, 39, 40, 41, 42, 43, 44, 45, 46, 47, 48, 49, 50, 51,\n       52, 53, 54, 55, 56, 57, 58, 59, 60, 61, 62, 63, 64, 65, 66, 67, 68])"
     },
     "metadata": {}
    },
    {
     "output_type": "stream",
     "name": "stdout",
     "text": [
      "\n\nFeature Name:  Species\nFeature DataType:  object\n"
     ]
    },
    {
     "output_type": "display_data",
     "data": {
      "text/plain": "array(['Chinstrap penguin (Pygoscelis antarctica)'], dtype=object)"
     },
     "metadata": {}
    },
    {
     "output_type": "stream",
     "name": "stdout",
     "text": [
      "\n\nFeature Name:  Region\nFeature DataType:  object\n"
     ]
    },
    {
     "output_type": "display_data",
     "data": {
      "text/plain": "array(['Anvers'], dtype=object)"
     },
     "metadata": {}
    },
    {
     "output_type": "stream",
     "name": "stdout",
     "text": [
      "\n\nFeature Name:  Island\nFeature DataType:  object\n"
     ]
    },
    {
     "output_type": "display_data",
     "data": {
      "text/plain": "array(['Dream'], dtype=object)"
     },
     "metadata": {}
    },
    {
     "output_type": "stream",
     "name": "stdout",
     "text": [
      "\n\nFeature Name:  Stage\nFeature DataType:  object\n"
     ]
    },
    {
     "output_type": "display_data",
     "data": {
      "text/plain": "array(['Adult, 1 Egg Stage'], dtype=object)"
     },
     "metadata": {}
    },
    {
     "output_type": "stream",
     "name": "stdout",
     "text": [
      "\n\nFeature Name:  Individual ID\nFeature DataType:  object\n"
     ]
    },
    {
     "output_type": "display_data",
     "data": {
      "text/plain": "array(['N61A1', 'N61A2', 'N62A1', 'N62A2', 'N64A1', 'N64A2', 'N66A1',\n       'N66A2', 'N67A1', 'N67A2', 'N68A1', 'N68A2', 'N69A1', 'N69A2',\n       'N70A1', 'N70A2', 'N71A1', 'N71A2', 'N72A1', 'N72A2', 'N73A1',\n       'N73A2', 'N85A1', 'N85A2', 'N89A1', 'N89A2', 'N63A1', 'N63A2',\n       'N65A1', 'N65A2', 'N74A1', 'N74A2', 'N75A1', 'N75A2', 'N86A1',\n       'N86A2', 'N87A1', 'N87A2', 'N88A1', 'N88A2', 'N90A1', 'N90A2',\n       'N92A1', 'N92A2', 'N93A1', 'N93A2', 'N94A1', 'N94A2', 'N95A1',\n       'N95A2', 'N96A1', 'N96A2', 'N98A1', 'N98A2', 'N99A1', 'N99A2',\n       'N100A1', 'N100A2'], dtype=object)"
     },
     "metadata": {}
    },
    {
     "output_type": "stream",
     "name": "stdout",
     "text": [
      "\n\nFeature Name:  Clutch Completion\nFeature DataType:  object\n"
     ]
    },
    {
     "output_type": "display_data",
     "data": {
      "text/plain": "array(['No', 'Yes'], dtype=object)"
     },
     "metadata": {}
    },
    {
     "output_type": "stream",
     "name": "stdout",
     "text": [
      "\n\nFeature Name:  Date Egg\nFeature DataType:  object\n"
     ]
    },
    {
     "output_type": "display_data",
     "data": {
      "text/plain": "array(['2007-11-19', '2007-11-26', '2007-11-21', '2007-11-28',\n       '2007-11-22', '2007-11-30', '2007-12-03', '2008-11-25',\n       '2008-11-14', '2008-11-24', '2009-11-17', '2009-11-27',\n       '2009-11-23', '2009-11-21', '2009-11-19'], dtype=object)"
     },
     "metadata": {}
    },
    {
     "output_type": "stream",
     "name": "stdout",
     "text": [
      "\n\nFeature Name:  Culmen Length (mm)\nFeature DataType:  float64\n"
     ]
    },
    {
     "output_type": "display_data",
     "data": {
      "text/plain": "array([46.5, 50. , 51.3, 45.4, 52.7, 45.2, 46.1, 46. , 46.6, 51.7, 47. ,\n       52. , 45.9, 50.5, 50.3, 58. , 46.4, 49.2, 42.4, 48.5, 43.2, 50.6,\n       46.7, 49.5, 52.8, 40.9, 54.2, 42.5, 51. , 49.7, 47.5, 47.6, 46.9,\n       53.5, 49. , 46.2, 50.9, 45.5, 50.8, 50.1, 51.5, 49.8, 48.1, 51.4,\n       45.7, 50.7, 52.2, 49.3, 50.2, 45.6, 51.9, 46.8, 55.8, 43.5, 49.6])"
     },
     "metadata": {}
    },
    {
     "output_type": "stream",
     "name": "stdout",
     "text": [
      "\n\nFeature Name:  Culmen Depth (mm)\nFeature DataType:  float64\n"
     ]
    },
    {
     "output_type": "display_data",
     "data": {
      "text/plain": "array([17.9, 19.5, 19.2, 18.7, 19.8, 17.8, 18.2, 18.9, 19.9, 20.3, 17.3,\n       18.1, 17.1, 19.6, 20. , 18.6, 17.5, 16.6, 19.4, 19. , 18.4, 20.8,\n       16.7, 18.8, 16.8, 18.3, 20.7, 19.1, 17. , 18.5, 16.4, 19.7, 16.5])"
     },
     "metadata": {}
    },
    {
     "output_type": "stream",
     "name": "stdout",
     "text": [
      "\n\nFeature Name:  Flipper Length (mm)\nFeature DataType:  int64\n"
     ]
    },
    {
     "output_type": "display_data",
     "data": {
      "text/plain": "array([192, 196, 193, 188, 197, 198, 178, 195, 194, 185, 201, 190, 181,\n       191, 187, 200, 205, 203, 199, 210, 212, 202, 206, 189, 207])"
     },
     "metadata": {}
    },
    {
     "output_type": "stream",
     "name": "stdout",
     "text": [
      "\n\nFeature Name:  Body Mass (g)\nFeature DataType:  int64\n"
     ]
    },
    {
     "output_type": "display_data",
     "data": {
      "text/plain": "array([3500, 3900, 3650, 3525, 3725, 3950, 3250, 3750, 4150, 3700, 3800,\n       3775, 4050, 3575, 3300, 3450, 4400, 3600, 3400, 2900, 4550, 3200,\n       4300, 3350, 4100, 3850, 4800, 2700, 4500, 3550, 3675, 4450, 3325,\n       4000])"
     },
     "metadata": {}
    },
    {
     "output_type": "stream",
     "name": "stdout",
     "text": [
      "\n\nFeature Name:  Sex\nFeature DataType:  object\n"
     ]
    },
    {
     "output_type": "display_data",
     "data": {
      "text/plain": "array(['FEMALE', 'MALE'], dtype=object)"
     },
     "metadata": {}
    },
    {
     "output_type": "stream",
     "name": "stdout",
     "text": [
      "\n\nFeature Name:  Delta 15 N (o/oo)\nFeature DataType:  float64\n"
     ]
    },
    {
     "output_type": "display_data",
     "data": {
      "text/plain": "array([ 9.03935,  8.92069,  9.29078,  8.64701,  9.00642,  8.88942,\n        8.85664,  8.63701,  8.47173,  8.79581,  8.95063,  8.68747,\n        8.72037,  9.0233 ,  9.12277,  9.8059 , 10.02019,  9.14382,\n        9.32105,  9.27158,  9.35138,  9.42666,  9.35416,  9.28153,\n        9.74144,  9.36799,  8.9399 ,  9.63074,  9.37369,  9.25177,\n        9.08458,  9.49283,  9.36668,  9.23196,  9.75486,  9.07825,\n        8.83502,  9.43146,  9.80589, 10.02544,  9.53262,  9.61734,\n       10.02372,  9.36493,  9.43684,  9.45827,  9.46819,  9.34089,\n        9.6895 ,  9.32169,  9.46929,  9.43782,  9.415  ,  9.93727,\n        9.56534,  9.77528,  9.62357,  9.88809,  9.74492,  9.46985,\n            nan,  9.65061,  9.26715,  9.70465,  9.37608,  9.4618 ,\n        9.98044,  9.39305])"
     },
     "metadata": {}
    },
    {
     "output_type": "stream",
     "name": "stdout",
     "text": [
      "\n\nFeature Name:  Delta 13 C (o/oo)\nFeature DataType:  float64\n"
     ]
    },
    {
     "output_type": "display_data",
     "data": {
      "text/plain": "array([-24.30229, -24.23592, -24.7557 , -24.62717, -24.61867, -24.49433,\n       -24.55644, -24.84059, -24.29229, -24.36088, -24.59897, -24.38751,\n       -24.80526, -24.38933, -24.90024, -24.7294 , -24.54704, -24.57994,\n       -24.64162, -24.64335, -24.6879 , -24.26375, -25.01185, -24.97134,\n       -24.59467, -24.47142, -23.89017, -24.34684, -24.52896, -24.69638,\n       -24.54903, -24.59996, -24.45195, -24.17282, -24.31198, -25.1455 ,\n       -24.65859, -24.6844 , -24.73735, -24.90816, -24.66867, -24.66188,\n       -24.86594, -24.66259, -24.16566, -24.35575, -24.45721, -24.45189,\n       -24.43062, -24.41562, -24.48403, -24.36202, -24.805  , -24.59066,\n       -24.60882, -24.56481, -24.78984, -24.59513, -24.404  , -24.65786,\n       -23.78767, -24.48153, -24.31912, -24.53494, -24.40753, -24.70615,\n       -24.68741, -24.25255])"
     },
     "metadata": {}
    },
    {
     "output_type": "stream",
     "name": "stdout",
     "text": [
      "\n\nFeature Name:  Comments\nFeature DataType:  object\n"
     ]
    },
    {
     "output_type": "display_data",
     "data": {
      "text/plain": "array(['Nest never observed with full clutch.', nan,\n       'No delta15N data received from lab.'], dtype=object)"
     },
     "metadata": {}
    },
    {
     "output_type": "stream",
     "name": "stdout",
     "text": [
      "\n\ncategorical columns:  ['studyName', 'Species', 'Region', 'Island', 'Stage', 'Individual ID', 'Clutch Completion', 'Date Egg', 'Sex', 'Comments']\nnon-categorical columns:  ['Sample Number', 'Culmen Length (mm)', 'Culmen Depth (mm)', 'Flipper Length (mm)', 'Body Mass (g)', 'Delta 15 N (o/oo)', 'Delta 13 C (o/oo)']\n"
     ]
    }
   ],
   "source": [
    "# identify the categorical and non categorical columns\n",
    "cat_cols_df = []\n",
    "cont_cols_df = []\n",
    "\n",
    "display(\"Penguins Data snapshot\")\n",
    "display(\"rows / columns: \", penguins_adelie_df.shape)\n",
    "display(\"information: \", penguins_adelie_df.info())\n",
    "display(\"Unique Values\")\n",
    "for i in penguins_adelie_df.columns:\n",
    "    print(\"Feature Name: \",i)\n",
    "    print(\"Feature DataType: \",penguins_adelie_df[i].dtypes)\n",
    "    display(penguins_adelie_df[i].unique())\n",
    "    print(\"\\n\")\n",
    "    if penguins_adelie_df[i].dtypes == 'object':\n",
    "        cat_cols_df.append(i)\n",
    "    else:\n",
    "        cont_cols_df.append(i)\n",
    "print(\"categorical columns: \", cat_cols_df)\n",
    "print(\"non-categorical columns: \", cont_cols_df)"
   ]
  },
  {
   "cell_type": "code",
   "execution_count": null,
   "metadata": {},
   "outputs": [],
   "source": []
  }
 ]
}