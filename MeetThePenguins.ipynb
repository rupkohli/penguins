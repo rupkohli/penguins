{
  "nbformat": 4,
  "nbformat_minor": 0,
  "metadata": {
    "colab": {
      "name": "MeetThePenguins.ipynb",
      "private_outputs": true,
      "provenance": [],
      "authorship_tag": "ABX9TyO8tTFz1X2bnqdXrn/89eMu",
      "include_colab_link": true
    },
    "kernelspec": {
      "name": "python3",
      "display_name": "Python 3"
    }
  },
  "cells": [
    {
      "cell_type": "markdown",
      "metadata": {
        "id": "view-in-github",
        "colab_type": "text"
      },
      "source": [
        "<a href=\"https://colab.research.google.com/github/rupkohli/penguins/blob/main/MeetThePenguins.ipynb\" target=\"_parent\"><img src=\"https://colab.research.google.com/assets/colab-badge.svg\" alt=\"Open In Colab\"/></a>"
      ]
    },
    {
      "cell_type": "markdown",
      "metadata": {
        "id": "APXEsNYTKYFF"
      },
      "source": [
        "## Penguins"
      ]
    },
    {
      "cell_type": "markdown",
      "metadata": {
        "id": "1MMQrVsQY-AC"
      },
      "source": [
        "### Meet the Penguins (Adélie, Chinstrap, and Gentoo)\n",
        "Includes nesting observations, penguin size data, and isotope measurements from blood samples for adult Adélie, Chinstrap, and Gentoo penguins."
      ]
    },
    {
      "cell_type": "code",
      "metadata": {
        "id": "1yfk0Za1g22W"
      },
      "source": [
        ""
      ],
      "execution_count": null,
      "outputs": []
    },
    {
      "cell_type": "code",
      "metadata": {
        "id": "stZgtP1xfMXP"
      },
      "source": [
        "# Clone the entire repo.\n",
        "!git clone -l -s git://github.com/rupkohli/penguins.git cloned-repo\n",
        "%cd cloned-repo\n",
        "!ls"
      ],
      "execution_count": null,
      "outputs": []
    },
    {
      "cell_type": "code",
      "metadata": {
        "id": "50ZSkgglfMXQ"
      },
      "source": [
        "# Fetch a single <1MB file using the raw GitHub URL.\n",
        "dataset_01 = !curl --remote-name \\\n",
        "     -H 'Accept: application/vnd.github.v3.raw' \\\n",
        "     --location https://api.github.com/repos/rupkohli/penguins/main/raw_data/penguin_adelie_table_219.csv\n",
        "\n",
        "dataset_01     "
      ],
      "execution_count": null,
      "outputs": []
    },
    {
      "cell_type": "code",
      "metadata": {
        "id": "Xgk83if_KM_G"
      },
      "source": [
        "import os\n",
        "\n",
        "cwd = os.getcwd()  # Get the current working directory (cwd)\n",
        "files = os.listdir(cwd)  # Get all the files in that directory\n",
        "print(\"Files in %r: %s\" % (cwd, files))"
      ],
      "execution_count": null,
      "outputs": []
    },
    {
      "cell_type": "markdown",
      "metadata": {
        "id": "FszxHlUjKczv"
      },
      "source": [
        "### Setup"
      ]
    },
    {
      "cell_type": "code",
      "metadata": {
        "id": "NhT2FZBGKfyf"
      },
      "source": [
        "import pandas as pd\n",
        "import numpy as np"
      ],
      "execution_count": null,
      "outputs": []
    },
    {
      "cell_type": "code",
      "metadata": {
        "id": "NH27OBYydrwU"
      },
      "source": [
        "import seaborn as sns\n",
        "import matplotlib.pyplot as plt\n",
        "%matplotlib inline"
      ],
      "execution_count": null,
      "outputs": []
    },
    {
      "cell_type": "code",
      "metadata": {
        "id": "DDi-jNDBKlOn"
      },
      "source": [
        "penguins_adelie_df = pd.read_csv(\"https://raw.githubusercontent.com/rupkohli/penguins/main/raw_data/penguin_chinstrap_table_221.csv\")\n",
        "penguins_adelie_df.head()"
      ],
      "execution_count": null,
      "outputs": []
    },
    {
      "cell_type": "code",
      "metadata": {
        "id": "7UIjS5rHYR0C"
      },
      "source": [
        "penguins_chinstrap_df = pd.read_csv(\"https://raw.githubusercontent.com/rupkohli/penguins/main/raw_data/penguin_chinstrap_table_221.csv\")\n",
        "penguins_chinstrap_df.head()"
      ],
      "execution_count": null,
      "outputs": []
    },
    {
      "cell_type": "code",
      "metadata": {
        "id": "YJBMjoKVYvn8"
      },
      "source": [
        "penguins_adelie_df.info()"
      ],
      "execution_count": null,
      "outputs": []
    },
    {
      "cell_type": "code",
      "metadata": {
        "id": "aiUX38MvZoYP"
      },
      "source": [
        "# identify the categorical and non categorical columns\n",
        "cat_cols_df = []\n",
        "cont_cols_df = []\n",
        "\n",
        "for i in penguins_adelie_df.columns:\n",
        "    if penguins_adelie_df[i].dtypes == 'object':\n",
        "        cat_cols_df.append(i)\n",
        "    else:\n",
        "        cont_cols_df.append(i)\n"
      ],
      "execution_count": null,
      "outputs": []
    },
    {
      "cell_type": "code",
      "metadata": {
        "id": "WLcFHKciZ38g"
      },
      "source": [
        "display(penguins_adelie_df.shape)\n",
        "for i in penguins_adelie_df.columns:\n",
        "    print(\"Feature Name: \",i)\n",
        "    print(\"Feature DataType: \",penguins_adelie_df[i].dtypes)\n",
        "    display(penguins_adelie_df[i].unique())\n",
        "    print(\"\\n\")\n",
        "    if penguins_adelie_df[i].dtypes != 'object':\n",
        "      sns.distplot(penguins_adelie_df[i]);\n",
        "      plt.show;"
      ],
      "execution_count": null,
      "outputs": []
    }
  ]
}